{
 "cells": [
  {
   "cell_type": "code",
   "execution_count": 4,
   "id": "f6268619",
   "metadata": {},
   "outputs": [
    {
     "ename": "ModuleNotFoundError",
     "evalue": "No module named 'pandas_datareader'",
     "output_type": "error",
     "traceback": [
      "\u001b[1;31m---------------------------------------------------------------------------\u001b[0m",
      "\u001b[1;31mModuleNotFoundError\u001b[0m                       Traceback (most recent call last)",
      "\u001b[1;32m~\\AppData\\Local\\Temp\\ipykernel_46076\\288088074.py\u001b[0m in \u001b[0;36m<module>\u001b[1;34m\u001b[0m\n\u001b[1;32m----> 1\u001b[1;33m \u001b[1;32mimport\u001b[0m \u001b[0mpandas_datareader\u001b[0m \u001b[1;32mas\u001b[0m \u001b[0mpdr\u001b[0m\u001b[1;33m\u001b[0m\u001b[1;33m\u001b[0m\u001b[0m\n\u001b[0m",
      "\u001b[1;31mModuleNotFoundError\u001b[0m: No module named 'pandas_datareader'"
     ]
    }
   ],
   "source": [
    "import pandas_datareader as pdr"
   ]
  },
  {
   "cell_type": "code",
   "execution_count": 5,
   "id": "33d0413b",
   "metadata": {},
   "outputs": [
    {
     "name": "stdout",
     "output_type": "stream",
     "text": [
      "Collecting pandas_datareader\n",
      "  Using cached pandas_datareader-0.10.0-py3-none-any.whl (109 kB)\n",
      "Requirement already satisfied: requests>=2.19.0 in c:\\users\\alankrit mishra\\anaconda3\\lib\\site-packages (from pandas_datareader) (2.28.1)\n",
      "Requirement already satisfied: pandas>=0.23 in c:\\users\\alankrit mishra\\anaconda3\\lib\\site-packages (from pandas_datareader) (1.4.4)\n",
      "Requirement already satisfied: lxml in c:\\users\\alankrit mishra\\anaconda3\\lib\\site-packages (from pandas_datareader) (4.9.1)\n",
      "Requirement already satisfied: python-dateutil>=2.8.1 in c:\\users\\alankrit mishra\\anaconda3\\lib\\site-packages (from pandas>=0.23->pandas_datareader) (2.8.2)\n",
      "Requirement already satisfied: pytz>=2020.1 in c:\\users\\alankrit mishra\\anaconda3\\lib\\site-packages (from pandas>=0.23->pandas_datareader) (2022.1)\n",
      "Requirement already satisfied: numpy>=1.18.5 in c:\\users\\alankrit mishra\\anaconda3\\lib\\site-packages (from pandas>=0.23->pandas_datareader) (1.21.5)\n",
      "Requirement already satisfied: idna<4,>=2.5 in c:\\users\\alankrit mishra\\anaconda3\\lib\\site-packages (from requests>=2.19.0->pandas_datareader) (3.3)\n",
      "Requirement already satisfied: urllib3<1.27,>=1.21.1 in c:\\users\\alankrit mishra\\anaconda3\\lib\\site-packages (from requests>=2.19.0->pandas_datareader) (1.26.11)\n",
      "Requirement already satisfied: certifi>=2017.4.17 in c:\\users\\alankrit mishra\\anaconda3\\lib\\site-packages (from requests>=2.19.0->pandas_datareader) (2022.9.14)\n",
      "Requirement already satisfied: charset-normalizer<3,>=2 in c:\\users\\alankrit mishra\\anaconda3\\lib\\site-packages (from requests>=2.19.0->pandas_datareader) (2.0.4)\n",
      "Requirement already satisfied: six>=1.5 in c:\\users\\alankrit mishra\\anaconda3\\lib\\site-packages (from python-dateutil>=2.8.1->pandas>=0.23->pandas_datareader) (1.16.0)\n",
      "Installing collected packages: pandas_datareader\n",
      "Successfully installed pandas_datareader-0.10.0\n",
      "Note: you may need to restart the kernel to use updated packages.\n"
     ]
    }
   ],
   "source": [
    "pip install pandas_datareader"
   ]
  },
  {
   "cell_type": "code",
   "execution_count": 4,
   "id": "81589a0a",
   "metadata": {},
   "outputs": [],
   "source": [
    "key='69bf8e4820e7db9309c78164cdcf9b6c653c844c'"
   ]
  },
  {
   "cell_type": "code",
   "execution_count": 1,
   "id": "7c268efb",
   "metadata": {},
   "outputs": [],
   "source": [
    "import pandas_datareader as pdr"
   ]
  },
  {
   "cell_type": "code",
   "execution_count": 5,
   "id": "372e278c",
   "metadata": {},
   "outputs": [
    {
     "name": "stderr",
     "output_type": "stream",
     "text": [
      "C:\\Users\\ALANKRIT MISHRA\\anaconda3\\lib\\site-packages\\pandas_datareader\\tiingo.py:234: FutureWarning: In a future version of pandas all arguments of concat except for the argument 'objs' will be keyword-only.\n",
      "  return pd.concat(dfs, self._concat_axis)\n"
     ]
    }
   ],
   "source": [
    "df=pdr.get_data_tiingo('AAPL',api_key=key)"
   ]
  },
  {
   "cell_type": "code",
   "execution_count": 6,
   "id": "1eb47a73",
   "metadata": {},
   "outputs": [],
   "source": [
    "df.to_csv('AAPL.csv')"
   ]
  },
  {
   "cell_type": "code",
   "execution_count": 7,
   "id": "63606064",
   "metadata": {},
   "outputs": [],
   "source": [
    "import pandas as pd"
   ]
  },
  {
   "cell_type": "code",
   "execution_count": 10,
   "id": "4ac2fe68",
   "metadata": {},
   "outputs": [
    {
     "data": {
      "text/html": [
       "<div>\n",
       "<style scoped>\n",
       "    .dataframe tbody tr th:only-of-type {\n",
       "        vertical-align: middle;\n",
       "    }\n",
       "\n",
       "    .dataframe tbody tr th {\n",
       "        vertical-align: top;\n",
       "    }\n",
       "\n",
       "    .dataframe thead th {\n",
       "        text-align: right;\n",
       "    }\n",
       "</style>\n",
       "<table border=\"1\" class=\"dataframe\">\n",
       "  <thead>\n",
       "    <tr style=\"text-align: right;\">\n",
       "      <th></th>\n",
       "      <th>symbol</th>\n",
       "      <th>date</th>\n",
       "      <th>close</th>\n",
       "      <th>high</th>\n",
       "      <th>low</th>\n",
       "      <th>open</th>\n",
       "      <th>volume</th>\n",
       "      <th>adjClose</th>\n",
       "      <th>adjHigh</th>\n",
       "      <th>adjLow</th>\n",
       "      <th>adjOpen</th>\n",
       "      <th>adjVolume</th>\n",
       "      <th>divCash</th>\n",
       "      <th>splitFactor</th>\n",
       "    </tr>\n",
       "  </thead>\n",
       "  <tbody>\n",
       "    <tr>\n",
       "      <th>0</th>\n",
       "      <td>AAPL</td>\n",
       "      <td>2018-09-11 00:00:00+00:00</td>\n",
       "      <td>223.85</td>\n",
       "      <td>224.30</td>\n",
       "      <td>216.56</td>\n",
       "      <td>218.01</td>\n",
       "      <td>35749049</td>\n",
       "      <td>53.593237</td>\n",
       "      <td>53.700974</td>\n",
       "      <td>51.847895</td>\n",
       "      <td>52.195048</td>\n",
       "      <td>142996196</td>\n",
       "      <td>0.0</td>\n",
       "      <td>1.0</td>\n",
       "    </tr>\n",
       "    <tr>\n",
       "      <th>1</th>\n",
       "      <td>AAPL</td>\n",
       "      <td>2018-09-12 00:00:00+00:00</td>\n",
       "      <td>221.07</td>\n",
       "      <td>225.00</td>\n",
       "      <td>219.84</td>\n",
       "      <td>224.94</td>\n",
       "      <td>49278740</td>\n",
       "      <td>52.927661</td>\n",
       "      <td>53.868565</td>\n",
       "      <td>52.633179</td>\n",
       "      <td>53.854200</td>\n",
       "      <td>197114960</td>\n",
       "      <td>0.0</td>\n",
       "      <td>1.0</td>\n",
       "    </tr>\n",
       "    <tr>\n",
       "      <th>2</th>\n",
       "      <td>AAPL</td>\n",
       "      <td>2018-09-13 00:00:00+00:00</td>\n",
       "      <td>226.41</td>\n",
       "      <td>228.35</td>\n",
       "      <td>222.57</td>\n",
       "      <td>223.52</td>\n",
       "      <td>41706377</td>\n",
       "      <td>54.206141</td>\n",
       "      <td>54.670608</td>\n",
       "      <td>53.286785</td>\n",
       "      <td>53.514230</td>\n",
       "      <td>166825508</td>\n",
       "      <td>0.0</td>\n",
       "      <td>1.0</td>\n",
       "    </tr>\n",
       "    <tr>\n",
       "      <th>3</th>\n",
       "      <td>AAPL</td>\n",
       "      <td>2018-09-14 00:00:00+00:00</td>\n",
       "      <td>223.84</td>\n",
       "      <td>226.84</td>\n",
       "      <td>222.52</td>\n",
       "      <td>225.75</td>\n",
       "      <td>31999289</td>\n",
       "      <td>53.590843</td>\n",
       "      <td>54.309090</td>\n",
       "      <td>53.274814</td>\n",
       "      <td>54.048127</td>\n",
       "      <td>127997156</td>\n",
       "      <td>0.0</td>\n",
       "      <td>1.0</td>\n",
       "    </tr>\n",
       "    <tr>\n",
       "      <th>4</th>\n",
       "      <td>AAPL</td>\n",
       "      <td>2018-09-17 00:00:00+00:00</td>\n",
       "      <td>217.88</td>\n",
       "      <td>222.95</td>\n",
       "      <td>217.27</td>\n",
       "      <td>222.15</td>\n",
       "      <td>37195133</td>\n",
       "      <td>52.163924</td>\n",
       "      <td>53.377763</td>\n",
       "      <td>52.017881</td>\n",
       "      <td>53.186230</td>\n",
       "      <td>148780532</td>\n",
       "      <td>0.0</td>\n",
       "      <td>1.0</td>\n",
       "    </tr>\n",
       "  </tbody>\n",
       "</table>\n",
       "</div>"
      ],
      "text/plain": [
       "  symbol                       date   close    high     low    open    volume  \\\n",
       "0   AAPL  2018-09-11 00:00:00+00:00  223.85  224.30  216.56  218.01  35749049   \n",
       "1   AAPL  2018-09-12 00:00:00+00:00  221.07  225.00  219.84  224.94  49278740   \n",
       "2   AAPL  2018-09-13 00:00:00+00:00  226.41  228.35  222.57  223.52  41706377   \n",
       "3   AAPL  2018-09-14 00:00:00+00:00  223.84  226.84  222.52  225.75  31999289   \n",
       "4   AAPL  2018-09-17 00:00:00+00:00  217.88  222.95  217.27  222.15  37195133   \n",
       "\n",
       "    adjClose    adjHigh     adjLow    adjOpen  adjVolume  divCash  splitFactor  \n",
       "0  53.593237  53.700974  51.847895  52.195048  142996196      0.0          1.0  \n",
       "1  52.927661  53.868565  52.633179  53.854200  197114960      0.0          1.0  \n",
       "2  54.206141  54.670608  53.286785  53.514230  166825508      0.0          1.0  \n",
       "3  53.590843  54.309090  53.274814  54.048127  127997156      0.0          1.0  \n",
       "4  52.163924  53.377763  52.017881  53.186230  148780532      0.0          1.0  "
      ]
     },
     "execution_count": 10,
     "metadata": {},
     "output_type": "execute_result"
    }
   ],
   "source": [
    "df=pd.read_csv('AAPL.csv')\n",
    "df.head()"
   ]
  },
  {
   "cell_type": "code",
   "execution_count": 12,
   "id": "d104fa18",
   "metadata": {},
   "outputs": [
    {
     "data": {
      "text/html": [
       "<div>\n",
       "<style scoped>\n",
       "    .dataframe tbody tr th:only-of-type {\n",
       "        vertical-align: middle;\n",
       "    }\n",
       "\n",
       "    .dataframe tbody tr th {\n",
       "        vertical-align: top;\n",
       "    }\n",
       "\n",
       "    .dataframe thead th {\n",
       "        text-align: right;\n",
       "    }\n",
       "</style>\n",
       "<table border=\"1\" class=\"dataframe\">\n",
       "  <thead>\n",
       "    <tr style=\"text-align: right;\">\n",
       "      <th></th>\n",
       "      <th>symbol</th>\n",
       "      <th>date</th>\n",
       "      <th>close</th>\n",
       "      <th>high</th>\n",
       "      <th>low</th>\n",
       "      <th>open</th>\n",
       "      <th>volume</th>\n",
       "      <th>adjClose</th>\n",
       "      <th>adjHigh</th>\n",
       "      <th>adjLow</th>\n",
       "      <th>adjOpen</th>\n",
       "      <th>adjVolume</th>\n",
       "      <th>divCash</th>\n",
       "      <th>splitFactor</th>\n",
       "    </tr>\n",
       "  </thead>\n",
       "  <tbody>\n",
       "    <tr>\n",
       "      <th>1252</th>\n",
       "      <td>AAPL</td>\n",
       "      <td>2023-09-01 00:00:00+00:00</td>\n",
       "      <td>189.46</td>\n",
       "      <td>189.920</td>\n",
       "      <td>188.28</td>\n",
       "      <td>189.485</td>\n",
       "      <td>45766503</td>\n",
       "      <td>189.46</td>\n",
       "      <td>189.920</td>\n",
       "      <td>188.28</td>\n",
       "      <td>189.485</td>\n",
       "      <td>45766503</td>\n",
       "      <td>0.0</td>\n",
       "      <td>1.0</td>\n",
       "    </tr>\n",
       "    <tr>\n",
       "      <th>1253</th>\n",
       "      <td>AAPL</td>\n",
       "      <td>2023-09-05 00:00:00+00:00</td>\n",
       "      <td>189.70</td>\n",
       "      <td>189.980</td>\n",
       "      <td>187.61</td>\n",
       "      <td>188.280</td>\n",
       "      <td>45280027</td>\n",
       "      <td>189.70</td>\n",
       "      <td>189.980</td>\n",
       "      <td>187.61</td>\n",
       "      <td>188.280</td>\n",
       "      <td>45280027</td>\n",
       "      <td>0.0</td>\n",
       "      <td>1.0</td>\n",
       "    </tr>\n",
       "    <tr>\n",
       "      <th>1254</th>\n",
       "      <td>AAPL</td>\n",
       "      <td>2023-09-06 00:00:00+00:00</td>\n",
       "      <td>182.91</td>\n",
       "      <td>188.850</td>\n",
       "      <td>181.47</td>\n",
       "      <td>188.400</td>\n",
       "      <td>81755816</td>\n",
       "      <td>182.91</td>\n",
       "      <td>188.850</td>\n",
       "      <td>181.47</td>\n",
       "      <td>188.400</td>\n",
       "      <td>81755816</td>\n",
       "      <td>0.0</td>\n",
       "      <td>1.0</td>\n",
       "    </tr>\n",
       "    <tr>\n",
       "      <th>1255</th>\n",
       "      <td>AAPL</td>\n",
       "      <td>2023-09-07 00:00:00+00:00</td>\n",
       "      <td>177.56</td>\n",
       "      <td>178.210</td>\n",
       "      <td>173.54</td>\n",
       "      <td>175.180</td>\n",
       "      <td>112488803</td>\n",
       "      <td>177.56</td>\n",
       "      <td>178.210</td>\n",
       "      <td>173.54</td>\n",
       "      <td>175.180</td>\n",
       "      <td>112488803</td>\n",
       "      <td>0.0</td>\n",
       "      <td>1.0</td>\n",
       "    </tr>\n",
       "    <tr>\n",
       "      <th>1256</th>\n",
       "      <td>AAPL</td>\n",
       "      <td>2023-09-08 00:00:00+00:00</td>\n",
       "      <td>178.18</td>\n",
       "      <td>180.239</td>\n",
       "      <td>177.79</td>\n",
       "      <td>178.350</td>\n",
       "      <td>65602066</td>\n",
       "      <td>178.18</td>\n",
       "      <td>180.239</td>\n",
       "      <td>177.79</td>\n",
       "      <td>178.350</td>\n",
       "      <td>65602066</td>\n",
       "      <td>0.0</td>\n",
       "      <td>1.0</td>\n",
       "    </tr>\n",
       "  </tbody>\n",
       "</table>\n",
       "</div>"
      ],
      "text/plain": [
       "     symbol                       date   close     high     low     open  \\\n",
       "1252   AAPL  2023-09-01 00:00:00+00:00  189.46  189.920  188.28  189.485   \n",
       "1253   AAPL  2023-09-05 00:00:00+00:00  189.70  189.980  187.61  188.280   \n",
       "1254   AAPL  2023-09-06 00:00:00+00:00  182.91  188.850  181.47  188.400   \n",
       "1255   AAPL  2023-09-07 00:00:00+00:00  177.56  178.210  173.54  175.180   \n",
       "1256   AAPL  2023-09-08 00:00:00+00:00  178.18  180.239  177.79  178.350   \n",
       "\n",
       "         volume  adjClose  adjHigh  adjLow  adjOpen  adjVolume  divCash  \\\n",
       "1252   45766503    189.46  189.920  188.28  189.485   45766503      0.0   \n",
       "1253   45280027    189.70  189.980  187.61  188.280   45280027      0.0   \n",
       "1254   81755816    182.91  188.850  181.47  188.400   81755816      0.0   \n",
       "1255  112488803    177.56  178.210  173.54  175.180  112488803      0.0   \n",
       "1256   65602066    178.18  180.239  177.79  178.350   65602066      0.0   \n",
       "\n",
       "      splitFactor  \n",
       "1252          1.0  \n",
       "1253          1.0  \n",
       "1254          1.0  \n",
       "1255          1.0  \n",
       "1256          1.0  "
      ]
     },
     "execution_count": 12,
     "metadata": {},
     "output_type": "execute_result"
    }
   ],
   "source": [
    "df.tail()"
   ]
  },
  {
   "cell_type": "code",
   "execution_count": 13,
   "id": "12a6f7e5",
   "metadata": {},
   "outputs": [
    {
     "data": {
      "text/plain": [
       "(1257,)"
      ]
     },
     "execution_count": 13,
     "metadata": {},
     "output_type": "execute_result"
    }
   ],
   "source": [
    "df1=df.reset_index()['close']\n",
    "df1.shape"
   ]
  },
  {
   "cell_type": "code",
   "execution_count": 14,
   "id": "38476b30",
   "metadata": {},
   "outputs": [
    {
     "data": {
      "text/plain": [
       "0       223.85\n",
       "1       221.07\n",
       "2       226.41\n",
       "3       223.84\n",
       "4       217.88\n",
       "         ...  \n",
       "1252    189.46\n",
       "1253    189.70\n",
       "1254    182.91\n",
       "1255    177.56\n",
       "1256    178.18\n",
       "Name: close, Length: 1257, dtype: float64"
      ]
     },
     "execution_count": 14,
     "metadata": {},
     "output_type": "execute_result"
    }
   ],
   "source": [
    "df1"
   ]
  },
  {
   "cell_type": "code",
   "execution_count": 16,
   "id": "07d20bd7",
   "metadata": {},
   "outputs": [
    {
     "data": {
      "text/plain": [
       "[<matplotlib.lines.Line2D at 0x163d9c0aa60>]"
      ]
     },
     "execution_count": 16,
     "metadata": {},
     "output_type": "execute_result"
    },
    {
     "data": {
      "image/png": "[encoded data removed]",
      "text/plain": [
       "<Figure size 640x480 with 1 Axes>"
      ]
     },
     "metadata": {},
     "output_type": "display_data"
    }
   ],
   "source": [
    "import matplotlib.pyplot as plt\n",
    "plt.plot(df1)\n",
    "# plt.show"
   ]
  },
  {
   "cell_type": "code",
   "execution_count": 17,
   "id": "16f14a03",
   "metadata": {},
   "outputs": [],
   "source": [
    "#LSTM as sensitive to scale so we need to apply MinMax scaler"
   ]
  },
  {
   "cell_type": "code",
   "execution_count": 18,
   "id": "8e606f61",
   "metadata": {},
   "outputs": [],
   "source": [
    "import numpy as np\n",
    "from sklearn.preprocessing import MinMaxScaler"
   ]
  },
  {
   "cell_type": "code",
   "execution_count": 19,
   "id": "7c985cfd",
   "metadata": {},
   "outputs": [],
   "source": [
    "scaler=MinMaxScaler(feature_range=(0,1))\n",
    "df1=scaler.fit_transform(np.array(df1).reshape(-1,1))"
   ]
  },
  {
   "cell_type": "code",
   "execution_count": 20,
   "id": "23934d68",
   "metadata": {},
   "outputs": [
    {
     "data": {
      "text/plain": [
       "(1257, 1)"
      ]
     },
     "execution_count": 20,
     "metadata": {},
     "output_type": "execute_result"
    }
   ],
   "source": [
    "df1.shape"
   ]
  },
  {
   "cell_type": "code",
   "execution_count": 24,
   "id": "caba2013",
   "metadata": {},
   "outputs": [
    {
     "data": {
      "text/plain": [
       "array([[0.29307451],\n",
       "       [0.28611146],\n",
       "       [0.29948654],\n",
       "       ...,\n",
       "       [0.19053225],\n",
       "       [0.17713212],\n",
       "       [0.17868503]])"
      ]
     },
     "execution_count": 24,
     "metadata": {},
     "output_type": "execute_result"
    }
   ],
   "source": [
    "df1"
   ]
  },
  {
   "cell_type": "code",
   "execution_count": 45,
   "id": "6ff3d267",
   "metadata": {},
   "outputs": [],
   "source": [
    "#Splitting the data into train and test wihtout using the train_test_split as this is a time series data\n",
    "training_len=int(len(df1)*0.65)\n",
    "test_len=len(df1)-training_len\n",
    "train_data,test_data=df1[0:training_len:],df1[training_len:len(df1):1]"
   ]
  },
  {
   "cell_type": "code",
   "execution_count": 46,
   "id": "256d5d9f",
   "metadata": {},
   "outputs": [
    {
     "data": {
      "text/plain": [
       "((817, 1), (440, 1))"
      ]
     },
     "execution_count": 46,
     "metadata": {},
     "output_type": "execute_result"
    }
   ],
   "source": [
    "train_data.shape,test_data.shape"
   ]
  },
  {
   "cell_type": "code",
   "execution_count": 47,
   "id": "c956ff02",
   "metadata": {},
   "outputs": [
    {
     "data": {
      "text/plain": [
       "(817, 440)"
      ]
     },
     "execution_count": 47,
     "metadata": {},
     "output_type": "execute_result"
    }
   ],
   "source": [
    "training_len,test_len"
   ]
  },
  {
   "cell_type": "code",
   "execution_count": 56,
   "id": "be5b87a9",
   "metadata": {},
   "outputs": [],
   "source": [
    "#Creating a time series data by taking timestamps which are  basically the number of previous day data that we have to consider\n",
    "import numpy\n",
    "# convert an array of values into a dataset matrix\n",
    "def create_dataset(dataset, time_step=1):\n",
    "\tdataX, dataY = [], []\n",
    "\tfor i in range(len(dataset)-time_step-1):\n",
    "\t\ta = dataset[i:(i+time_step), 0]   ###i=0, 0,1,2,3-----99   100 \n",
    "\t\tdataX.append(a)\n",
    "\t\tdataY.append(dataset[i + time_step, 0])\n",
    "\treturn numpy.array(dataX), numpy.array(dataY)"
   ]
  },
  {
   "cell_type": "code",
   "execution_count": 57,
   "id": "6992d1db",
   "metadata": {},
   "outputs": [],
   "source": [
    "# reshape into X=t,t+1,t+2,t+3 and Y=t+4\n",
    "time_step = 100\n",
    "X_train, y_train = create_dataset(train_data, time_step)\n",
    "X_test, ytest = create_dataset(test_data, time_step)"
   ]
  },
  {
   "cell_type": "code",
   "execution_count": 58,
   "id": "ab3205eb",
   "metadata": {},
   "outputs": [
    {
     "name": "stdout",
     "output_type": "stream",
     "text": [
      "[[0.29307451 0.28611146 0.29948654 0.29304947 0.27812148 0.27902317\n",
      "  0.27934878 0.28350657 0.27757044 0.28541014 0.28891672 0.28448341\n",
      "  0.29582968 0.29780839 0.30161553 0.30667502 0.31366312 0.30344396\n",
      "  0.29417658 0.29287414 0.3006387  0.27431434 0.26953037 0.28871634\n",
      "  0.27681904 0.28881653 0.28641202 0.27346274 0.28170319 0.28505949\n",
      "  0.29026925 0.27113338 0.28293049 0.27416406 0.26399499 0.26664997\n",
      "  0.28057608 0.28899186 0.25207264 0.23731997 0.24278021 0.25825924\n",
      "  0.25460238 0.2445335  0.21873513 0.21387602 0.20027552 0.21182217\n",
      "  0.21713212 0.1979211  0.1756794  0.17517846 0.16393237 0.16976832\n",
      "  0.16881653 0.185598   0.18211647 0.17968691 0.19531622 0.17495304\n",
      "  0.17001879 0.15441453 0.15719474 0.15476518 0.15594239 0.16057608\n",
      "  0.14687539 0.14301816 0.14835316 0.13537884 0.12520977 0.10993112\n",
      "  0.10016281 0.12606137 0.12350657 0.12370695 0.12748904 0.12793989\n",
      "  0.08854101 0.10374452 0.10291797 0.10998121 0.11639324 0.11762054\n",
      "  0.11383845 0.10810269 0.11579211 0.12047589 0.12278021 0.12518472\n",
      "  0.11636819 0.1179211  0.11486537 0.12753914 0.12388228 0.11982467\n",
      "  0.14629931 0.1492799  0.14948028 0.16132749]]\n"
     ]
    }
   ],
   "source": [
    "print(x_train)"
   ]
  },
  {
   "cell_type": "code",
   "execution_count": 60,
   "id": "06af696a",
   "metadata": {},
   "outputs": [
    {
     "name": "stdout",
     "output_type": "stream",
     "text": [
      "(339, 100)\n"
     ]
    }
   ],
   "source": [
    "print(X_test.shape)"
   ]
  },
  {
   "cell_type": "code",
   "execution_count": 61,
   "id": "f399d7b6",
   "metadata": {},
   "outputs": [
    {
     "data": {
      "text/plain": [
       "(716, 100)"
      ]
     },
     "execution_count": 61,
     "metadata": {},
     "output_type": "execute_result"
    }
   ],
   "source": [
    "X_train.shape"
   ]
  },
  {
   "cell_type": "code",
   "execution_count": 62,
   "id": "708a0490",
   "metadata": {},
   "outputs": [],
   "source": [
    "#converting into a 3 dimension shape to give it as input to out lstm\n",
    "X_train=X_train.reshape(X_train.shape[0],X_train.shape[1],1)\n",
    "X_test=X_test.reshape(X_test.shape[0],X_test.shape[1],1)"
   ]
  },
  {
   "cell_type": "code",
   "execution_count": 63,
   "id": "c4e0eab2",
   "metadata": {},
   "outputs": [
    {
     "data": {
      "text/plain": [
       "(716, 100, 1)"
      ]
     },
     "execution_count": 63,
     "metadata": {},
     "output_type": "execute_result"
    }
   ],
   "source": [
    "X_train.shape"
   ]
  },
  {
   "cell_type": "code",
   "execution_count": 64,
   "id": "8f933a0e",
   "metadata": {},
   "outputs": [
    {
     "data": {
      "text/plain": [
       "array([[[0.29307451],\n",
       "        [0.28611146],\n",
       "        [0.29948654],\n",
       "        ...,\n",
       "        [0.1492799 ],\n",
       "        [0.14948028],\n",
       "        [0.16132749]],\n",
       "\n",
       "       [[0.28611146],\n",
       "        [0.29948654],\n",
       "        [0.29304947],\n",
       "        ...,\n",
       "        [0.14948028],\n",
       "        [0.16132749],\n",
       "        [0.16866625]],\n",
       "\n",
       "       [[0.29948654],\n",
       "        [0.29304947],\n",
       "        [0.27812148],\n",
       "        ...,\n",
       "        [0.16132749],\n",
       "        [0.16866625],\n",
       "        [0.16881653]],\n",
       "\n",
       "       ...,\n",
       "\n",
       "       [[0.09718222],\n",
       "        [0.1059737 ],\n",
       "        [0.10429555],\n",
       "        ...,\n",
       "        [0.13375078],\n",
       "        [0.14642455],\n",
       "        [0.14509706]],\n",
       "\n",
       "       [[0.1059737 ],\n",
       "        [0.10429555],\n",
       "        [0.09906074],\n",
       "        ...,\n",
       "        [0.14642455],\n",
       "        [0.14509706],\n",
       "        [0.14256731]],\n",
       "\n",
       "       [[0.10429555],\n",
       "        [0.09906074],\n",
       "        [0.08919224],\n",
       "        ...,\n",
       "        [0.14509706],\n",
       "        [0.14256731],\n",
       "        [0.1377583 ]]])"
      ]
     },
     "execution_count": 64,
     "metadata": {},
     "output_type": "execute_result"
    }
   ],
   "source": [
    "X_train"
   ]
  },
  {
   "cell_type": "code",
   "execution_count": 67,
   "id": "075adca7",
   "metadata": {},
   "outputs": [],
   "source": [
    "#Creating stacked LSTM\n",
    "from tensorflow.keras.layers import LSTM\n",
    "from tensorflow.keras.layers import Dense\n",
    "from tensorflow.keras.models import Sequential"
   ]
  },
  {
   "cell_type": "code",
   "execution_count": 73,
   "id": "7598ac01",
   "metadata": {},
   "outputs": [],
   "source": [
    "model=Sequential()\n",
    "model.add(LSTM(50,return_sequences=True,input_shape=(100,1)))\n",
    "model.add(LSTM(50,return_sequences=True))\n",
    "model.add(LSTM(50))\n",
    "model.add(Dense(1))\n",
    "model.compile(loss='mean_squared_error',optimizer='adam')"
   ]
  },
  {
   "cell_type": "code",
   "execution_count": 75,
   "id": "ec4a5a50",
   "metadata": {},
   "outputs": [
    {
     "name": "stdout",
     "output_type": "stream",
     "text": [
      "Model: \"sequential_4\"\n",
      "_________________________________________________________________\n",
      " Layer (type)                Output Shape              Param #   \n",
      "=================================================================\n",
      " lstm_9 (LSTM)               (None, 100, 50)           10400     \n",
      "                                                                 \n",
      " lstm_10 (LSTM)              (None, 100, 50)           20200     \n",
      "                                                                 \n",
      " lstm_11 (LSTM)              (None, 50)                20200     \n",
      "                                                                 \n",
      " dense_1 (Dense)             (None, 1)                 51        \n",
      "                                                                 \n",
      "=================================================================\n",
      "Total params: 50,851\n",
      "Trainable params: 50,851\n",
      "Non-trainable params: 0\n",
      "_________________________________________________________________\n"
     ]
    }
   ],
   "source": [
    "model.summary()"
   ]
  },
  {
   "cell_type": "code",
   "execution_count": 77,
   "id": "e3e3db4c",
   "metadata": {},
   "outputs": [
    {
     "name": "stdout",
     "output_type": "stream",
     "text": [
      "Epoch 1/100\n",
      "12/12 [==============================] - 3s 259ms/step - loss: 0.0121 - val_loss: 9.6323e-04\n",
      "Epoch 2/100\n",
      "12/12 [==============================] - 1s 85ms/step - loss: 0.0096 - val_loss: 3.7294e-04\n",
      "Epoch 3/100\n",
      "12/12 [==============================] - 1s 85ms/step - loss: 0.0089 - val_loss: 3.3530e-04\n",
      "Epoch 4/100\n",
      "12/12 [==============================] - 1s 92ms/step - loss: 0.0078 - val_loss: 6.3956e-04\n",
      "Epoch 5/100\n",
      "12/12 [==============================] - 1s 95ms/step - loss: 0.0072 - val_loss: 3.7514e-04\n",
      "Epoch 6/100\n",
      "12/12 [==============================] - 1s 95ms/step - loss: 0.0066 - val_loss: 5.5966e-04\n",
      "Epoch 7/100\n",
      "12/12 [==============================] - 1s 86ms/step - loss: 0.0063 - val_loss: 4.3998e-04\n",
      "Epoch 8/100\n",
      "12/12 [==============================] - 1s 86ms/step - loss: 0.0054 - val_loss: 3.9033e-04\n",
      "Epoch 9/100\n",
      "12/12 [==============================] - 1s 85ms/step - loss: 0.0059 - val_loss: 2.6059e-04\n",
      "Epoch 10/100\n",
      "12/12 [==============================] - 1s 88ms/step - loss: 0.0047 - val_loss: 4.9966e-04\n",
      "Epoch 11/100\n",
      "12/12 [==============================] - 1s 93ms/step - loss: 0.0044 - val_loss: 2.8528e-04\n",
      "Epoch 12/100\n",
      "12/12 [==============================] - 1s 87ms/step - loss: 0.0052 - val_loss: 4.1005e-04\n",
      "Epoch 13/100\n",
      "12/12 [==============================] - 1s 85ms/step - loss: 0.0047 - val_loss: 5.3669e-04\n",
      "Epoch 14/100\n",
      "12/12 [==============================] - 1s 86ms/step - loss: 0.0042 - val_loss: 8.6777e-04\n",
      "Epoch 15/100\n",
      "12/12 [==============================] - 1s 85ms/step - loss: 0.0036 - val_loss: 2.9092e-04\n",
      "Epoch 16/100\n",
      "12/12 [==============================] - 1s 85ms/step - loss: 0.0033 - val_loss: 2.8970e-04\n",
      "Epoch 17/100\n",
      "12/12 [==============================] - 1s 85ms/step - loss: 0.0028 - val_loss: 2.3039e-04\n",
      "Epoch 18/100\n",
      "12/12 [==============================] - 1s 85ms/step - loss: 0.0027 - val_loss: 2.6603e-04\n",
      "Epoch 19/100\n",
      "12/12 [==============================] - 1s 87ms/step - loss: 0.0042 - val_loss: 3.9652e-04\n",
      "Epoch 20/100\n",
      "12/12 [==============================] - 1s 91ms/step - loss: 0.0035 - val_loss: 3.8525e-04\n",
      "Epoch 21/100\n",
      "12/12 [==============================] - 1s 89ms/step - loss: 0.0023 - val_loss: 3.5814e-04\n",
      "Epoch 22/100\n",
      "12/12 [==============================] - 1s 87ms/step - loss: 0.0028 - val_loss: 3.9373e-04\n",
      "Epoch 23/100\n",
      "12/12 [==============================] - 1s 85ms/step - loss: 0.0024 - val_loss: 2.7357e-04\n",
      "Epoch 24/100\n",
      "12/12 [==============================] - 1s 84ms/step - loss: 0.0026 - val_loss: 2.2807e-04\n",
      "Epoch 25/100\n",
      "12/12 [==============================] - 1s 85ms/step - loss: 0.0020 - val_loss: 2.7890e-04\n",
      "Epoch 26/100\n",
      "12/12 [==============================] - 1s 85ms/step - loss: 0.0020 - val_loss: 2.3008e-04\n",
      "Epoch 27/100\n",
      "12/12 [==============================] - 1s 85ms/step - loss: 0.0020 - val_loss: 2.2496e-04\n",
      "Epoch 28/100\n",
      "12/12 [==============================] - 1s 85ms/step - loss: 0.0017 - val_loss: 2.3529e-04\n",
      "Epoch 29/100\n",
      "12/12 [==============================] - 1s 84ms/step - loss: 0.0016 - val_loss: 3.1209e-04\n",
      "Epoch 30/100\n",
      "12/12 [==============================] - 1s 84ms/step - loss: 0.0019 - val_loss: 2.3881e-04\n",
      "Epoch 31/100\n",
      "12/12 [==============================] - 1s 86ms/step - loss: 0.0018 - val_loss: 2.5652e-04\n",
      "Epoch 32/100\n",
      "12/12 [==============================] - 1s 85ms/step - loss: 0.0017 - val_loss: 2.8671e-04\n",
      "Epoch 33/100\n",
      "12/12 [==============================] - 1s 85ms/step - loss: 0.0016 - val_loss: 2.7707e-04\n",
      "Epoch 34/100\n",
      "12/12 [==============================] - 1s 84ms/step - loss: 0.0016 - val_loss: 4.2902e-04\n",
      "Epoch 35/100\n",
      "12/12 [==============================] - 1s 88ms/step - loss: 0.0016 - val_loss: 3.7970e-04\n",
      "Epoch 36/100\n",
      "12/12 [==============================] - 1s 89ms/step - loss: 0.0024 - val_loss: 2.3260e-04\n",
      "Epoch 37/100\n",
      "12/12 [==============================] - 1s 90ms/step - loss: 0.0036 - val_loss: 4.8474e-04\n",
      "Epoch 38/100\n",
      "12/12 [==============================] - 1s 88ms/step - loss: 0.0026 - val_loss: 2.5733e-04\n",
      "Epoch 39/100\n",
      "12/12 [==============================] - 1s 86ms/step - loss: 0.0018 - val_loss: 3.7387e-04\n",
      "Epoch 40/100\n",
      "12/12 [==============================] - 1s 85ms/step - loss: 0.0016 - val_loss: 2.5340e-04\n",
      "Epoch 41/100\n",
      "12/12 [==============================] - 1s 84ms/step - loss: 0.0017 - val_loss: 2.6509e-04\n",
      "Epoch 42/100\n",
      "12/12 [==============================] - 1s 84ms/step - loss: 0.0075 - val_loss: 0.0032\n",
      "Epoch 43/100\n",
      "12/12 [==============================] - 1s 85ms/step - loss: 0.0065 - val_loss: 2.9797e-04\n",
      "Epoch 44/100\n",
      "12/12 [==============================] - 1s 85ms/step - loss: 0.0044 - val_loss: 0.0011\n",
      "Epoch 45/100\n",
      "12/12 [==============================] - 1s 83ms/step - loss: 0.0034 - val_loss: 2.3972e-04\n",
      "Epoch 46/100\n",
      "12/12 [==============================] - 1s 84ms/step - loss: 0.0029 - val_loss: 2.2340e-04\n",
      "Epoch 47/100\n",
      "12/12 [==============================] - 1s 85ms/step - loss: 0.0026 - val_loss: 3.1278e-04\n",
      "Epoch 48/100\n",
      "12/12 [==============================] - 1s 85ms/step - loss: 0.0022 - val_loss: 2.4728e-04\n",
      "Epoch 49/100\n",
      "12/12 [==============================] - 1s 84ms/step - loss: 0.0023 - val_loss: 2.1442e-04\n",
      "Epoch 50/100\n",
      "12/12 [==============================] - 1s 85ms/step - loss: 0.0023 - val_loss: 3.0013e-04\n",
      "Epoch 51/100\n",
      "12/12 [==============================] - 1s 90ms/step - loss: 0.0028 - val_loss: 2.2771e-04\n",
      "Epoch 52/100\n",
      "12/12 [==============================] - 1s 90ms/step - loss: 0.0020 - val_loss: 2.1321e-04\n",
      "Epoch 53/100\n",
      "12/12 [==============================] - 1s 89ms/step - loss: 0.0020 - val_loss: 2.1939e-04\n",
      "Epoch 54/100\n",
      "12/12 [==============================] - 1s 88ms/step - loss: 0.0020 - val_loss: 2.2364e-04\n",
      "Epoch 55/100\n",
      "12/12 [==============================] - 1s 86ms/step - loss: 0.0027 - val_loss: 3.7937e-04\n",
      "Epoch 56/100\n",
      "12/12 [==============================] - 1s 86ms/step - loss: 0.0020 - val_loss: 2.8622e-04\n",
      "Epoch 57/100\n",
      "12/12 [==============================] - 1s 86ms/step - loss: 0.0015 - val_loss: 3.1814e-04\n",
      "Epoch 58/100\n",
      "12/12 [==============================] - 1s 85ms/step - loss: 0.0016 - val_loss: 2.2051e-04\n",
      "Epoch 59/100\n",
      "12/12 [==============================] - 1s 86ms/step - loss: 0.0023 - val_loss: 2.2502e-04\n",
      "Epoch 60/100\n",
      "12/12 [==============================] - 1s 86ms/step - loss: 0.0020 - val_loss: 2.2145e-04\n",
      "Epoch 61/100\n",
      "12/12 [==============================] - 1s 85ms/step - loss: 0.0021 - val_loss: 2.9065e-04\n",
      "Epoch 62/100\n",
      "12/12 [==============================] - 1s 86ms/step - loss: 0.0020 - val_loss: 2.2357e-04\n",
      "Epoch 63/100\n",
      "12/12 [==============================] - 1s 86ms/step - loss: 0.0017 - val_loss: 3.0289e-04\n",
      "Epoch 64/100\n",
      "12/12 [==============================] - 1s 87ms/step - loss: 0.0021 - val_loss: 2.8679e-04\n",
      "Epoch 65/100\n",
      "12/12 [==============================] - 1s 85ms/step - loss: 0.0015 - val_loss: 2.3223e-04\n",
      "Epoch 66/100\n",
      "12/12 [==============================] - 1s 89ms/step - loss: 0.0023 - val_loss: 2.4713e-04\n",
      "Epoch 67/100\n",
      "12/12 [==============================] - 1s 97ms/step - loss: 0.0025 - val_loss: 2.2331e-04\n",
      "Epoch 68/100\n",
      "12/12 [==============================] - 1s 92ms/step - loss: 0.0020 - val_loss: 2.4561e-04\n",
      "Epoch 69/100\n",
      "12/12 [==============================] - 1s 85ms/step - loss: 0.0016 - val_loss: 2.6815e-04\n",
      "Epoch 70/100\n",
      "12/12 [==============================] - 1s 83ms/step - loss: 0.0017 - val_loss: 2.2575e-04\n",
      "Epoch 71/100\n",
      "12/12 [==============================] - 1s 82ms/step - loss: 0.0018 - val_loss: 2.8199e-04\n",
      "Epoch 72/100\n",
      "12/12 [==============================] - 1s 84ms/step - loss: 0.0017 - val_loss: 3.1681e-04\n",
      "Epoch 73/100\n",
      "12/12 [==============================] - 1s 87ms/step - loss: 0.0016 - val_loss: 3.9207e-04\n",
      "Epoch 74/100\n",
      "12/12 [==============================] - 1s 83ms/step - loss: 0.0018 - val_loss: 2.2861e-04\n",
      "Epoch 75/100\n",
      "12/12 [==============================] - 1s 84ms/step - loss: 0.0014 - val_loss: 2.3514e-04\n",
      "Epoch 76/100\n",
      "12/12 [==============================] - 1s 84ms/step - loss: 0.0020 - val_loss: 2.2750e-04\n",
      "Epoch 77/100\n",
      "12/12 [==============================] - 1s 85ms/step - loss: 0.0012 - val_loss: 2.3473e-04\n",
      "Epoch 78/100\n",
      "12/12 [==============================] - 1s 83ms/step - loss: 0.0012 - val_loss: 2.2709e-04\n",
      "Epoch 79/100\n"
     ]
    },
    {
     "name": "stdout",
     "output_type": "stream",
     "text": [
      "12/12 [==============================] - 1s 84ms/step - loss: 0.0010 - val_loss: 2.1693e-04\n",
      "Epoch 80/100\n",
      "12/12 [==============================] - 1s 83ms/step - loss: 0.0012 - val_loss: 2.2230e-04\n",
      "Epoch 81/100\n",
      "12/12 [==============================] - 1s 83ms/step - loss: 0.0016 - val_loss: 2.2962e-04\n",
      "Epoch 82/100\n",
      "12/12 [==============================] - 1s 92ms/step - loss: 0.0015 - val_loss: 2.4114e-04\n",
      "Epoch 83/100\n",
      "12/12 [==============================] - 1s 88ms/step - loss: 0.0012 - val_loss: 2.2443e-04\n",
      "Epoch 84/100\n",
      "12/12 [==============================] - 1s 89ms/step - loss: 0.0011 - val_loss: 2.7023e-04\n",
      "Epoch 85/100\n",
      "12/12 [==============================] - 1s 83ms/step - loss: 9.4483e-04 - val_loss: 2.1970e-04\n",
      "Epoch 86/100\n",
      "12/12 [==============================] - 1s 84ms/step - loss: 0.0011 - val_loss: 2.3199e-04\n",
      "Epoch 87/100\n",
      "12/12 [==============================] - 1s 83ms/step - loss: 0.0010 - val_loss: 2.2149e-04\n",
      "Epoch 88/100\n",
      "12/12 [==============================] - 1s 84ms/step - loss: 0.0017 - val_loss: 4.8931e-04\n",
      "Epoch 89/100\n",
      "12/12 [==============================] - 1s 83ms/step - loss: 0.0014 - val_loss: 2.5832e-04\n",
      "Epoch 90/100\n",
      "12/12 [==============================] - 1s 83ms/step - loss: 0.0016 - val_loss: 2.1287e-04\n",
      "Epoch 91/100\n",
      "12/12 [==============================] - 1s 82ms/step - loss: 0.0012 - val_loss: 2.1404e-04\n",
      "Epoch 92/100\n",
      "12/12 [==============================] - 1s 83ms/step - loss: 9.5089e-04 - val_loss: 2.2746e-04\n",
      "Epoch 93/100\n",
      "12/12 [==============================] - 1s 83ms/step - loss: 8.2347e-04 - val_loss: 2.0967e-04\n",
      "Epoch 94/100\n",
      "12/12 [==============================] - 1s 83ms/step - loss: 7.5531e-04 - val_loss: 2.1157e-04\n",
      "Epoch 95/100\n",
      "12/12 [==============================] - 1s 84ms/step - loss: 7.8838e-04 - val_loss: 3.3986e-04\n",
      "Epoch 96/100\n",
      "12/12 [==============================] - 1s 83ms/step - loss: 0.0024 - val_loss: 7.3304e-04\n",
      "Epoch 97/100\n",
      "12/12 [==============================] - 1s 83ms/step - loss: 0.0028 - val_loss: 4.9268e-04\n",
      "Epoch 98/100\n",
      "12/12 [==============================] - 1s 88ms/step - loss: 0.0021 - val_loss: 5.2503e-04\n",
      "Epoch 99/100\n",
      "12/12 [==============================] - 1s 89ms/step - loss: 0.0031 - val_loss: 2.1563e-04\n",
      "Epoch 100/100\n",
      "12/12 [==============================] - 1s 86ms/step - loss: 0.0023 - val_loss: 2.3264e-04\n"
     ]
    },
    {
     "data": {
      "text/plain": [
       "<keras.callbacks.History at 0x163f272b820>"
      ]
     },
     "execution_count": 77,
     "metadata": {},
     "output_type": "execute_result"
    }
   ],
   "source": [
    "model.fit(X_train,y_train,validation_data=(X_test,ytest),epochs=100,batch_size=64,verbose=1)"
   ]
  },
  {
   "cell_type": "code",
   "execution_count": 78,
   "id": "977bedc1",
   "metadata": {},
   "outputs": [
    {
     "name": "stdout",
     "output_type": "stream",
     "text": [
      "23/23 [==============================] - 1s 17ms/step\n",
      "11/11 [==============================] - 0s 16ms/step\n"
     ]
    }
   ],
   "source": [
    "### Lets Do the prediction and check performance metrics\n",
    "train_predict=model.predict(X_train)\n",
    "test_predict=model.predict(X_test)"
   ]
  },
  {
   "cell_type": "code",
   "execution_count": 79,
   "id": "64a25df7",
   "metadata": {},
   "outputs": [],
   "source": [
    "##Transformback to original form\n",
    "train_predict=scaler.inverse_transform(train_predict)\n",
    "test_predict=scaler.inverse_transform(test_predict)"
   ]
  },
  {
   "cell_type": "code",
   "execution_count": 80,
   "id": "b3e09433",
   "metadata": {},
   "outputs": [
    {
     "data": {
      "text/plain": [
       "220.91364947056982"
      ]
     },
     "execution_count": 80,
     "metadata": {},
     "output_type": "execute_result"
    }
   ],
   "source": [
    "### Calculate RMSE performance metrics\n",
    "import math\n",
    "from sklearn.metrics import mean_squared_error\n",
    "math.sqrt(mean_squared_error(y_train,train_predict))"
   ]
  },
  {
   "cell_type": "code",
   "execution_count": 81,
   "id": "9be10c89",
   "metadata": {},
   "outputs": [
    {
     "data": {
      "text/plain": [
       "157.10661025472356"
      ]
     },
     "execution_count": 81,
     "metadata": {},
     "output_type": "execute_result"
    }
   ],
   "source": [
    "### Test Data RMSE\n",
    "math.sqrt(mean_squared_error(ytest,test_predict))"
   ]
  },
  {
   "cell_type": "code",
   "execution_count": 82,
   "id": "ba2719b4",
   "metadata": {},
   "outputs": [
    {
     "data": {
      "image/png": "[encoded data removed]",
      "text/plain": [
       "<Figure size 640x480 with 1 Axes>"
      ]
     },
     "metadata": {},
     "output_type": "display_data"
    }
   ],
   "source": [
    "### Plotting \n",
    "# shift train predictions for plotting\n",
    "look_back=100\n",
    "trainPredictPlot = numpy.empty_like(df1)\n",
    "trainPredictPlot[:, :] = np.nan\n",
    "trainPredictPlot[look_back:len(train_predict)+look_back, :] = train_predict\n",
    "# shift test predictions for plotting\n",
    "testPredictPlot = numpy.empty_like(df1)\n",
    "testPredictPlot[:, :] = numpy.nan\n",
    "testPredictPlot[len(train_predict)+(look_back*2)+1:len(df1)-1, :] = test_predict\n",
    "# plot baseline and predictions\n",
    "plt.plot(scaler.inverse_transform(df1))\n",
    "plt.plot(trainPredictPlot)\n",
    "plt.plot(testPredictPlot)\n",
    "plt.show()"
   ]
  },
  {
   "cell_type": "raw",
   "id": "2e6a6bd9",
   "metadata": {},
   "source": [
    "the blue line indicates the total dataset\n",
    "the train data perdicted output is shown with orange line\n",
    "the test data predicted output is shown with green line"
   ]
  },
  {
   "cell_type": "code",
   "execution_count": 83,
   "id": "f220be65",
   "metadata": {},
   "outputs": [
    {
     "data": {
      "text/plain": [
       "440"
      ]
     },
     "execution_count": 83,
     "metadata": {},
     "output_type": "execute_result"
    }
   ],
   "source": [
    "len(test_data)"
   ]
  },
  {
   "cell_type": "code",
   "execution_count": 86,
   "id": "13a02760",
   "metadata": {},
   "outputs": [],
   "source": [
    "x_input=test_data[340:].reshape(1,-1)"
   ]
  },
  {
   "cell_type": "code",
   "execution_count": 87,
   "id": "743b4049",
   "metadata": {},
   "outputs": [
    {
     "data": {
      "text/plain": [
       "(1, 100)"
      ]
     },
     "execution_count": 87,
     "metadata": {},
     "output_type": "execute_result"
    }
   ],
   "source": [
    "x_input.shape"
   ]
  },
  {
   "cell_type": "code",
   "execution_count": 88,
   "id": "e6598b14",
   "metadata": {},
   "outputs": [],
   "source": [
    "temp_input=list(x_input)\n",
    "temp_input=temp_input[0].tolist()"
   ]
  },
  {
   "cell_type": "code",
   "execution_count": 89,
   "id": "2636f334",
   "metadata": {},
   "outputs": [
    {
     "data": {
      "text/plain": [
       "[0.14935504070131495,\n",
       " 0.15226048841577955,\n",
       " 0.14980588603631806,\n",
       " 0.14572323105823415,\n",
       " 0.14649968691296178,\n",
       " 0.14259236067626796,\n",
       " 0.14256731371321218,\n",
       " 0.15421415153412643,\n",
       " 0.15739511584220411,\n",
       " 0.15716969317470253,\n",
       " 0.1545397620538509,\n",
       " 0.15180964308077638,\n",
       " 0.1476518472135253,\n",
       " 0.16713838447088286,\n",
       " 0.16696305572949277,\n",
       " 0.16262993112085156,\n",
       " 0.16710081402629928,\n",
       " 0.16758922980588598,\n",
       " 0.16463368816530988,\n",
       " 0.1633813400125234,\n",
       " 0.1633813400125234,\n",
       " 0.16493425172197868,\n",
       " 0.17084533500313087,\n",
       " 0.17112085159674384,\n",
       " 0.1687163431433938,\n",
       " 0.16210394489668123,\n",
       " 0.16280525986224165,\n",
       " 0.1656856606136506,\n",
       " 0.17179711959924854,\n",
       " 0.17648090169067,\n",
       " 0.17635566687539134,\n",
       " 0.1834690043832185,\n",
       " 0.1856230432060112,\n",
       " 0.18219160926737632,\n",
       " 0.18126487163431432,\n",
       " 0.1777833437695679,\n",
       " 0.18467125860989347,\n",
       " 0.18564809016906697,\n",
       " 0.19273638071383836,\n",
       " 0.1915341264871634,\n",
       " 0.19313713212273004,\n",
       " 0.19829680651221032,\n",
       " 0.1955666875391358,\n",
       " 0.1957921102066374,\n",
       " 0.1931621790857858,\n",
       " 0.2007764558547276,\n",
       " 0.19997495303694424,\n",
       " 0.19644333124608637,\n",
       " 0.2034314339386349,\n",
       " 0.2064120225422667,\n",
       " 0.2072636192861615,\n",
       " 0.21823418910457104,\n",
       " 0.21445209768315587,\n",
       " 0.21162179085785848,\n",
       " 0.21282404508453345,\n",
       " 0.20999373825923606,\n",
       " 0.20480901690670006,\n",
       " 0.20348152786474638,\n",
       " 0.20771446462116466,\n",
       " 0.20964308077645577,\n",
       " 0.21001878522229173,\n",
       " 0.21828428303068248,\n",
       " 0.2176330619912335,\n",
       " 0.22106449592986843,\n",
       " 0.21613024420788973,\n",
       " 0.21314965560425791,\n",
       " 0.215178459611772,\n",
       " 0.21735754539762048,\n",
       " 0.21956167814652466,\n",
       " 0.21635566687539132,\n",
       " 0.22289292423293672,\n",
       " 0.22444583594239192,\n",
       " 0.22232936756418276,\n",
       " 0.21475266123982467,\n",
       " 0.21122103944896675,\n",
       " 0.1882279273638071,\n",
       " 0.18036318096430803,\n",
       " 0.18274264245460237,\n",
       " 0.1787100814026299,\n",
       " 0.17815904821540385,\n",
       " 0.17770820288040068,\n",
       " 0.18189104571070758,\n",
       " 0.1768566061365059,\n",
       " 0.1746524733876017,\n",
       " 0.16821540388227924,\n",
       " 0.16944270507200998,\n",
       " 0.17282404508453347,\n",
       " 0.17630557294927984,\n",
       " 0.18604884157795865,\n",
       " 0.17417658108954281,\n",
       " 0.17976205385097055,\n",
       " 0.18371947401377575,\n",
       " 0.1935629304946775,\n",
       " 0.20240450845335,\n",
       " 0.20295554164057605,\n",
       " 0.20693800876643703,\n",
       " 0.20753913587977452,\n",
       " 0.19053224796493418,\n",
       " 0.1771321227301189,\n",
       " 0.17868503443957418]"
      ]
     },
     "execution_count": 89,
     "metadata": {},
     "output_type": "execute_result"
    }
   ],
   "source": [
    "temp_input"
   ]
  },
  {
   "cell_type": "code",
   "execution_count": null,
   "id": "29049d70",
   "metadata": {},
   "outputs": [],
   "source": []
  }
 ],
 "metadata": {
  "kernelspec": {
   "display_name": "Python 3 (ipykernel)",
   "language": "python",
   "name": "python3"
  },
  "language_info": {
   "codemirror_mode": {
    "name": "ipython",
    "version": 3
   },
   "file_extension": ".py",
   "mimetype": "text/x-python",
   "name": "python",
   "nbconvert_exporter": "python",
   "pygments_lexer": "ipython3",
   "version": "3.9.13"
  }
 },
 "nbformat": 4,
 "nbformat_minor": 5
}
